# required imports

import xlrd
import random
import pandas as pd
import seaborn as sns
import geopandas as gpd
import matplotlib.pyplot as plt

# reading the state wise shapefile of India in a GeoDataFrame and preview it

fp = "Igismap/Indian_States.shp"
map_df = gpd.read_file(fp)
map_df.head()


# Plot the default map

map_df.plot()
